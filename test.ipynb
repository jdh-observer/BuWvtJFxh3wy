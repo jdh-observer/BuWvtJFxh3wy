{
 "cells": [
  {
   "cell_type": "code",
   "execution_count": null,
   "id": "ed854b77",
   "metadata": {},
   "outputs": [],
   "source": [
    "# test if FFmpeg has been installed via apt.txt for mybinder"
   ]
  },
  {
   "cell_type": "code",
   "execution_count": 4,
   "id": "b886b868",
   "metadata": {
    "ExecuteTime": {
     "end_time": "2023-04-11T14:00:14.239594Z",
     "start_time": "2023-04-11T14:00:11.454370Z"
    }
   },
   "outputs": [
    {
     "name": "stdout",
     "output_type": "stream",
     "text": [
      "ffmpeg version 5.1.2 Copyright (c) 2000-2022 the FFmpeg developers\r\n",
      "built with Apple clang version 14.0.0 (clang-1400.0.29.202)\r\n",
      "configuration: --prefix=/usr/local/Cellar/ffmpeg/5.1.2_6 --enable-shared --enable-pthreads --enable-version3 --cc=clang --host-cflags= --host-ldflags= --enable-ffplay --enable-gnutls --enable-gpl --enable-libaom --enable-libaribb24 --enable-libbluray --enable-libdav1d --enable-libmp3lame --enable-libopus --enable-librav1e --enable-librist --enable-librubberband --enable-libsnappy --enable-libsrt --enable-libsvtav1 --enable-libtesseract --enable-libtheora --enable-libvidstab --enable-libvmaf --enable-libvorbis --enable-libvpx --enable-libwebp --enable-libx264 --enable-libx265 --enable-libxml2 --enable-libxvid --enable-lzma --enable-libfontconfig --enable-libfreetype --enable-frei0r --enable-libass --enable-libopencore-amrnb --enable-libopencore-amrwb --enable-libopenjpeg --enable-libspeex --enable-libsoxr --enable-libzmq --enable-libzimg --disable-libjack --disable-indev=jack --enable-videotoolbox\r\n",
      "libavutil      57. 28.100 / 57. 28.100\r\n",
      "libavcodec     59. 37.100 / 59. 37.100\r\n",
      "libavformat    59. 27.100 / 59. 27.100\r\n",
      "libavdevice    59.  7.100 / 59.  7.100\r\n",
      "libavfilter     8. 44.100 /  8. 44.100\r\n",
      "libswscale      6.  7.100 /  6.  7.100\r\n",
      "libswresample   4.  7.100 /  4.  7.100\r\n",
      "libpostproc    56.  6.100 / 56.  6.100\r\n"
     ]
    }
   ],
   "source": [
    "!ffmpeg -version"
   ]
  },
  {
   "cell_type": "code",
   "execution_count": null,
   "id": "7b4ff9d9",
   "metadata": {},
   "outputs": [],
   "source": []
  }
 ],
 "metadata": {
  "kernelspec": {
   "display_name": "Python 3 (ipykernel)",
   "language": "python",
   "name": "python3"
  },
  "language_info": {
   "codemirror_mode": {
    "name": "ipython",
    "version": 3
   },
   "file_extension": ".py",
   "mimetype": "text/x-python",
   "name": "python",
   "nbconvert_exporter": "python",
   "pygments_lexer": "ipython3",
   "version": "3.7.10"
  },
  "toc": {
   "base_numbering": 1,
   "nav_menu": {},
   "number_sections": true,
   "sideBar": true,
   "skip_h1_title": false,
   "title_cell": "Table of Contents",
   "title_sidebar": "Contents",
   "toc_cell": false,
   "toc_position": {},
   "toc_section_display": true,
   "toc_window_display": false
  }
 },
 "nbformat": 4,
 "nbformat_minor": 5
}
